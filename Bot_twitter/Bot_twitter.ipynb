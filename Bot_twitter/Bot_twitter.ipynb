{
 "cells": [
  {
   "cell_type": "markdown",
   "id": "5d6c0134",
   "metadata": {},
   "source": [
    "# Bot twitter\n",
    "\n",
    "Este bot genera reportes cada hora y se publican en twitter."
   ]
  },
  {
   "cell_type": "code",
   "execution_count": null,
   "id": "74172a47",
   "metadata": {},
   "outputs": [],
   "source": [
    "\"\"\"\n",
    "!pip install APIMakeSens\n",
    "!pip install folium\n",
    "!pip install tweepy\n",
    "!pip install selenium\n",
    "\"\"\""
   ]
  },
  {
   "cell_type": "markdown",
   "id": "72ab120a",
   "metadata": {},
   "source": [
    "### Cómo ejecutar este código cada hora:\n",
    "\n",
    "- Descargar el notebook como un archivo .py\n",
    "- Ejecutar en la terminal watch --interval=3600 python3 ruta/archivo.py"
   ]
  },
  {
   "cell_type": "code",
   "execution_count": 1,
   "id": "40fa4f89",
   "metadata": {
    "tags": []
   },
   "outputs": [],
   "source": [
    "# Librerias\n",
    "from MakeSens import MakeSens\n",
    "import numpy as np\n",
    "import datetime\n",
    "import pytz\n",
    "import folium\n",
    "from folium.plugins import BeautifyIcon"
   ]
  },
  {
   "cell_type": "code",
   "execution_count": 2,
   "id": "151f53c4",
   "metadata": {
    "tags": []
   },
   "outputs": [
    {
     "name": "stdout",
     "output_type": "stream",
     "text": [
      "2023-06-09 09:47:47 2023-06-08 09:47:47\n"
     ]
    }
   ],
   "source": [
    "# Rango de fecha\n",
    "fechaFin = datetime.datetime.now(pytz.timezone('America/Bogota')).strftime('%Y-%m-%d %H:%M:%S') # Fecha y hora Colombia\n",
    "#fechaInicio = fechaFin[:-8]+f'{int(fechaFin[-8:-6])-1:02}'+fechaFin[-6:] # Restar una hora\n",
    "\n",
    "past_date =  datetime.datetime.now()- datetime.timedelta(hours=24)  #Restar 24 horas\n",
    "fechaInicio = past_date.strftime('%Y-%m-%d %H:%M:%S')\n",
    "\n",
    "print(fechaFin,fechaInicio)"
   ]
  },
  {
   "cell_type": "code",
   "execution_count": 3,
   "id": "f54a5014",
   "metadata": {
    "tags": []
   },
   "outputs": [],
   "source": [
    "# Datos de Estaciones\n",
    "Estaciones = [('mE1_00004','Col. Tecnologico',7.1381572,-73.1180935),\n",
    "              ('mE1_00005','Col. Santander',7.1385332,-73.121327),\n",
    "              ('mE1_00006','Col. Pilar',7.108717813305484, -73.12173474310134),\n",
    "              ('mE1_00007','Col. Normal',7.1277056,-73.116534),\n",
    "              ('E2_00023','Grupo Halley',7.1393716,-73.1210968)]"
   ]
  },
  {
   "cell_type": "code",
   "execution_count": 4,
   "id": "fc6f16da-b722-4f84-a742-1681be30130f",
   "metadata": {
    "tags": []
   },
   "outputs": [],
   "source": [
    "Ntotal = int(24*30)"
   ]
  },
  {
   "cell_type": "code",
   "execution_count": 28,
   "id": "6ec4611b",
   "metadata": {
    "tags": []
   },
   "outputs": [],
   "source": [
    "def get_pm25(Estaciones): # Obtener la media de pm25 de las estaciones\n",
    "    pm25 = []\n",
    "    for est in Estaciones:\n",
    "        \n",
    "        data = MakeSens.download_data(est[0],fechaInicio,fechaFin,'m')\n",
    "        \n",
    "        if not data.empty: # Revisa que la estación tenga datos en el rango horario indicado\n",
    "            \n",
    "            pm25_1 = np.array(data['pm25_1'])\n",
    "            pm25_1[np.where(pm25_1>120)]=float(\"nan\") # Igualar valores mayores a 100\n",
    "            pm25_2 = np.array(data['pm25_2'])\n",
    "            pm25_2[np.where(pm25_2>120)]=float(\"nan\")\n",
    "            Ndata = data['pm25_1'].count()\n",
    "            \n",
    "            if Ndata>0.5*Ntotal:     \n",
    "                pm25_mean = np.mean([data['pm25_1'].mean(),data['pm25_2'].mean()]) # Media entre la media de ambas columnas de pm25\n",
    "                pm25.append(pm25_mean)\n",
    "            else:\n",
    "                pm25.append(0.0)\n",
    "        else:\n",
    "            pm25.append(0.0)\n",
    "    return pm25"
   ]
  },
  {
   "cell_type": "code",
   "execution_count": 31,
   "id": "cee33d38-bcfd-4033-837c-89970ae06adb",
   "metadata": {
    "tags": []
   },
   "outputs": [
    {
     "name": "stdout",
     "output_type": "stream",
     "text": [
      "mE1_00004 637 9.229199372056515 9.13657770800628\n",
      "mE1_00005 698 12.146131805157593 13.064469914040115\n",
      "mE1_00006 450 13.273333333333333 12.046666666666667\n",
      "mE1_00007 428 15.228971962616823 14.544392523364486\n"
     ]
    }
   ],
   "source": [
    "pm25 = get_pm25(Estaciones)"
   ]
  },
  {
   "cell_type": "markdown",
   "id": "9fea07d5",
   "metadata": {},
   "source": [
    "Para guardar el mapa como imagen debe tenerse la plantilla en el mismo directorio que este código"
   ]
  },
  {
   "cell_type": "code",
   "execution_count": 32,
   "id": "3991a5eb",
   "metadata": {
    "tags": []
   },
   "outputs": [
    {
     "data": {
      "text/html": [
       "<div style=\"width:100%;\"><div style=\"position:relative;width:100%;height:0;padding-bottom:60%;\"><span style=\"color:#565656\">Make this Notebook Trusted to load map: File -> Trust Notebook</span><iframe srcdoc=\"&lt;!DOCTYPE html&gt;\n",
       "&lt;html&gt;\n",
       "&lt;head&gt;\n",
       "    \n",
       "    &lt;meta http-equiv=&quot;content-type&quot; content=&quot;text/html; charset=UTF-8&quot; /&gt;\n",
       "    \n",
       "        &lt;script&gt;\n",
       "            L_NO_TOUCH = false;\n",
       "            L_DISABLE_3D = false;\n",
       "        &lt;/script&gt;\n",
       "    \n",
       "    &lt;style&gt;html, body {width: 100%;height: 100%;margin: 0;padding: 0;}&lt;/style&gt;\n",
       "    &lt;style&gt;#map {position:absolute;top:0;bottom:0;right:0;left:0;}&lt;/style&gt;\n",
       "    &lt;script src=&quot;https://cdn.jsdelivr.net/npm/leaflet@1.9.3/dist/leaflet.js&quot;&gt;&lt;/script&gt;\n",
       "    &lt;script src=&quot;https://code.jquery.com/jquery-1.12.4.min.js&quot;&gt;&lt;/script&gt;\n",
       "    &lt;script src=&quot;https://cdn.jsdelivr.net/npm/bootstrap@5.2.2/dist/js/bootstrap.bundle.min.js&quot;&gt;&lt;/script&gt;\n",
       "    &lt;script src=&quot;https://cdnjs.cloudflare.com/ajax/libs/Leaflet.awesome-markers/2.0.2/leaflet.awesome-markers.js&quot;&gt;&lt;/script&gt;\n",
       "    &lt;link rel=&quot;stylesheet&quot; href=&quot;https://cdn.jsdelivr.net/npm/leaflet@1.9.3/dist/leaflet.css&quot;/&gt;\n",
       "    &lt;link rel=&quot;stylesheet&quot; href=&quot;https://cdn.jsdelivr.net/npm/bootstrap@5.2.2/dist/css/bootstrap.min.css&quot;/&gt;\n",
       "    &lt;link rel=&quot;stylesheet&quot; href=&quot;https://netdna.bootstrapcdn.com/bootstrap/3.0.0/css/bootstrap.min.css&quot;/&gt;\n",
       "    &lt;link rel=&quot;stylesheet&quot; href=&quot;https://cdn.jsdelivr.net/npm/@fortawesome/fontawesome-free@6.2.0/css/all.min.css&quot;/&gt;\n",
       "    &lt;link rel=&quot;stylesheet&quot; href=&quot;https://cdnjs.cloudflare.com/ajax/libs/Leaflet.awesome-markers/2.0.2/leaflet.awesome-markers.css&quot;/&gt;\n",
       "    &lt;link rel=&quot;stylesheet&quot; href=&quot;https://cdn.jsdelivr.net/gh/python-visualization/folium/folium/templates/leaflet.awesome.rotate.min.css&quot;/&gt;\n",
       "    \n",
       "            &lt;meta name=&quot;viewport&quot; content=&quot;width=device-width,\n",
       "                initial-scale=1.0, maximum-scale=1.0, user-scalable=no&quot; /&gt;\n",
       "            &lt;style&gt;\n",
       "                #map_6f8a25aa2afeb114ddbafe9d0886abc7 {\n",
       "                    position: relative;\n",
       "                    width: 677.0px;\n",
       "                    height: 690.0px;\n",
       "                    left: 0.0%;\n",
       "                    top: 0.0%;\n",
       "                }\n",
       "                .leaflet-container { font-size: 1rem; }\n",
       "            &lt;/style&gt;\n",
       "        \n",
       "    &lt;script src=&quot;https://cdn.jsdelivr.net/gh/marslan390/BeautifyMarker/leaflet-beautify-marker-icon.min.js&quot;&gt;&lt;/script&gt;\n",
       "    &lt;link rel=&quot;stylesheet&quot; href=&quot;https://cdn.jsdelivr.net/gh/marslan390/BeautifyMarker/leaflet-beautify-marker-icon.min.css&quot;/&gt;\n",
       "&lt;/head&gt;\n",
       "&lt;body&gt;\n",
       "    \n",
       "    \n",
       "            &lt;div class=&quot;folium-map&quot; id=&quot;map_6f8a25aa2afeb114ddbafe9d0886abc7&quot; &gt;&lt;/div&gt;\n",
       "        \n",
       "&lt;/body&gt;\n",
       "&lt;script&gt;\n",
       "    \n",
       "    \n",
       "            var map_6f8a25aa2afeb114ddbafe9d0886abc7 = L.map(\n",
       "                &quot;map_6f8a25aa2afeb114ddbafe9d0886abc7&quot;,\n",
       "                {\n",
       "                    center: [7.124044706652741, -73.11913437155067],\n",
       "                    crs: L.CRS.EPSG3857,\n",
       "                    zoom: 14,\n",
       "                    zoomControl: false,\n",
       "                    preferCanvas: false,\n",
       "                }\n",
       "            );\n",
       "\n",
       "            \n",
       "\n",
       "        \n",
       "    \n",
       "            var tile_layer_fa690599ce3f626153cb2f74495e8735 = L.tileLayer(\n",
       "                &quot;https://cartodb-basemaps-{s}.global.ssl.fastly.net/light_all/{z}/{x}/{y}.png&quot;,\n",
       "                {&quot;attribution&quot;: &quot;\\u0026copy; \\u003ca target=\\&quot;_blank\\&quot; href=\\&quot;http://www.openstreetmap.org/copyright\\&quot;\\u003eOpenStreetMap\\u003c/a\\u003e contributors \\u0026copy; \\u003ca target=\\&quot;_blank\\&quot; href=\\&quot;http://cartodb.com/attributions\\&quot;\\u003eCartoDB\\u003c/a\\u003e, CartoDB \\u003ca target=\\&quot;_blank\\&quot; href =\\&quot;http://cartodb.com/attributions\\&quot;\\u003eattributions\\u003c/a\\u003e&quot;, &quot;detectRetina&quot;: false, &quot;maxNativeZoom&quot;: 18, &quot;maxZoom&quot;: 18, &quot;minZoom&quot;: 0, &quot;noWrap&quot;: false, &quot;opacity&quot;: 1, &quot;subdomains&quot;: &quot;abc&quot;, &quot;tms&quot;: false}\n",
       "            ).addTo(map_6f8a25aa2afeb114ddbafe9d0886abc7);\n",
       "        \n",
       "    \n",
       "            var marker_c67f2f6f72258a422b62675d02ba232e = L.marker(\n",
       "                [7.1381572, -73.1180935],\n",
       "                {}\n",
       "            ).addTo(map_6f8a25aa2afeb114ddbafe9d0886abc7);\n",
       "        \n",
       "    \n",
       "            var beautify_icon_920df7b2d7a3687d765ac2ae567c9f47 = new L.BeautifyIcon.icon(\n",
       "                {&quot;backgroundColor&quot;: &quot;transparent&quot;, &quot;borderColor&quot;: &quot;#00FF2E&quot;, &quot;borderWidth&quot;: 2, &quot;iconSize&quot;: [40, 40], &quot;innerIconStyle&quot;: &quot;line-height:25px; font-size: 12px;&quot;, &quot;isAlphaNumericIcon&quot;: true, &quot;spin&quot;: true, &quot;text&quot;: 9.2, &quot;textColor&quot;: &quot;#000000&quot;}\n",
       "            )\n",
       "            marker_c67f2f6f72258a422b62675d02ba232e.setIcon(beautify_icon_920df7b2d7a3687d765ac2ae567c9f47);\n",
       "        \n",
       "    \n",
       "        var popup_1666231dff908935bb0c10c68b8ef291 = L.popup({&quot;maxWidth&quot;: &quot;100%&quot;});\n",
       "\n",
       "        \n",
       "            \n",
       "                var html_44f397202f408a5a2a2c9d823fb14d2b = $(`&lt;div id=&quot;html_44f397202f408a5a2a2c9d823fb14d2b&quot; style=&quot;width: 100.0%; height: 100.0%;&quot;&gt;Col. Tecnologico&lt;/div&gt;`)[0];\n",
       "                popup_1666231dff908935bb0c10c68b8ef291.setContent(html_44f397202f408a5a2a2c9d823fb14d2b);\n",
       "            \n",
       "        \n",
       "\n",
       "        marker_c67f2f6f72258a422b62675d02ba232e.bindPopup(popup_1666231dff908935bb0c10c68b8ef291)\n",
       "        ;\n",
       "\n",
       "        \n",
       "    \n",
       "    \n",
       "            var marker_d54bfbf05c4d31d59213bd829ebb0cc2 = L.marker(\n",
       "                [7.1385332, -73.121327],\n",
       "                {}\n",
       "            ).addTo(map_6f8a25aa2afeb114ddbafe9d0886abc7);\n",
       "        \n",
       "    \n",
       "            var beautify_icon_66b479d0734193c124f73309b572d6e6 = new L.BeautifyIcon.icon(\n",
       "                {&quot;backgroundColor&quot;: &quot;transparent&quot;, &quot;borderWidth&quot;: 2, &quot;iconSize&quot;: [40, 40], &quot;innerIconStyle&quot;: &quot;line-height:25px; font-size: 12px;&quot;, &quot;isAlphaNumericIcon&quot;: true, &quot;spin&quot;: true, &quot;text&quot;: 12.6, &quot;textColor&quot;: &quot;#000000&quot;}\n",
       "            )\n",
       "            marker_d54bfbf05c4d31d59213bd829ebb0cc2.setIcon(beautify_icon_66b479d0734193c124f73309b572d6e6);\n",
       "        \n",
       "    \n",
       "        var popup_2a168c0d405613043a70c6128f2b651a = L.popup({&quot;maxWidth&quot;: &quot;100%&quot;});\n",
       "\n",
       "        \n",
       "            \n",
       "                var html_35ac723ee5c61176699449c15afd8dad = $(`&lt;div id=&quot;html_35ac723ee5c61176699449c15afd8dad&quot; style=&quot;width: 100.0%; height: 100.0%;&quot;&gt;Col. Santander&lt;/div&gt;`)[0];\n",
       "                popup_2a168c0d405613043a70c6128f2b651a.setContent(html_35ac723ee5c61176699449c15afd8dad);\n",
       "            \n",
       "        \n",
       "\n",
       "        marker_d54bfbf05c4d31d59213bd829ebb0cc2.bindPopup(popup_2a168c0d405613043a70c6128f2b651a)\n",
       "        ;\n",
       "\n",
       "        \n",
       "    \n",
       "    \n",
       "            var marker_b8f9f673885dcc4bf1a1c58a4886739c = L.marker(\n",
       "                [7.108717813305484, -73.12173474310134],\n",
       "                {}\n",
       "            ).addTo(map_6f8a25aa2afeb114ddbafe9d0886abc7);\n",
       "        \n",
       "    \n",
       "            var beautify_icon_e5d30a3479525147fbf7395a3cb5decc = new L.BeautifyIcon.icon(\n",
       "                {&quot;backgroundColor&quot;: &quot;transparent&quot;, &quot;borderWidth&quot;: 2, &quot;iconSize&quot;: [40, 40], &quot;innerIconStyle&quot;: &quot;line-height:25px; font-size: 12px;&quot;, &quot;isAlphaNumericIcon&quot;: true, &quot;spin&quot;: true, &quot;text&quot;: 12.7, &quot;textColor&quot;: &quot;#000000&quot;}\n",
       "            )\n",
       "            marker_b8f9f673885dcc4bf1a1c58a4886739c.setIcon(beautify_icon_e5d30a3479525147fbf7395a3cb5decc);\n",
       "        \n",
       "    \n",
       "        var popup_dd2107e69c1df3b58d021b2c2a8a7f8d = L.popup({&quot;maxWidth&quot;: &quot;100%&quot;});\n",
       "\n",
       "        \n",
       "            \n",
       "                var html_0ddddba1ad64d983bc0870c8ffff4123 = $(`&lt;div id=&quot;html_0ddddba1ad64d983bc0870c8ffff4123&quot; style=&quot;width: 100.0%; height: 100.0%;&quot;&gt;Col. Pilar&lt;/div&gt;`)[0];\n",
       "                popup_dd2107e69c1df3b58d021b2c2a8a7f8d.setContent(html_0ddddba1ad64d983bc0870c8ffff4123);\n",
       "            \n",
       "        \n",
       "\n",
       "        marker_b8f9f673885dcc4bf1a1c58a4886739c.bindPopup(popup_dd2107e69c1df3b58d021b2c2a8a7f8d)\n",
       "        ;\n",
       "\n",
       "        \n",
       "    \n",
       "    \n",
       "            var marker_a2aa717f14f93a01b704656d34ae207a = L.marker(\n",
       "                [7.1277056, -73.116534],\n",
       "                {}\n",
       "            ).addTo(map_6f8a25aa2afeb114ddbafe9d0886abc7);\n",
       "        \n",
       "    \n",
       "            var beautify_icon_61de6fb6fe11a7112afe438246d884d0 = new L.BeautifyIcon.icon(\n",
       "                {&quot;backgroundColor&quot;: &quot;transparent&quot;, &quot;borderColor&quot;: &quot;#FFE000&quot;, &quot;borderWidth&quot;: 2, &quot;iconSize&quot;: [40, 40], &quot;innerIconStyle&quot;: &quot;line-height:25px; font-size: 12px;&quot;, &quot;isAlphaNumericIcon&quot;: true, &quot;spin&quot;: true, &quot;text&quot;: 14.9, &quot;textColor&quot;: &quot;#000000&quot;}\n",
       "            )\n",
       "            marker_a2aa717f14f93a01b704656d34ae207a.setIcon(beautify_icon_61de6fb6fe11a7112afe438246d884d0);\n",
       "        \n",
       "    \n",
       "        var popup_bc03c2c71adb77ca115c67cd6667f59f = L.popup({&quot;maxWidth&quot;: &quot;100%&quot;});\n",
       "\n",
       "        \n",
       "            \n",
       "                var html_2be364c1a29dc7895e2f6e46ff78311b = $(`&lt;div id=&quot;html_2be364c1a29dc7895e2f6e46ff78311b&quot; style=&quot;width: 100.0%; height: 100.0%;&quot;&gt;Col. Normal&lt;/div&gt;`)[0];\n",
       "                popup_bc03c2c71adb77ca115c67cd6667f59f.setContent(html_2be364c1a29dc7895e2f6e46ff78311b);\n",
       "            \n",
       "        \n",
       "\n",
       "        marker_a2aa717f14f93a01b704656d34ae207a.bindPopup(popup_bc03c2c71adb77ca115c67cd6667f59f)\n",
       "        ;\n",
       "\n",
       "        \n",
       "    \n",
       "    \n",
       "            var marker_757fba494e082a0b673e6918c37094af = L.marker(\n",
       "                [7.1393716, -73.1210968],\n",
       "                {}\n",
       "            ).addTo(map_6f8a25aa2afeb114ddbafe9d0886abc7);\n",
       "        \n",
       "    \n",
       "            var beautify_icon_139f7150e5b2b28d178e061192f02764 = new L.BeautifyIcon.icon(\n",
       "                {&quot;backgroundColor&quot;: &quot;transparent&quot;, &quot;borderColor&quot;: &quot;#808080&quot;, &quot;borderWidth&quot;: 2, &quot;iconSize&quot;: [40, 40], &quot;innerIconStyle&quot;: &quot;line-height:25px; font-size: 12px;&quot;, &quot;isAlphaNumericIcon&quot;: true, &quot;spin&quot;: true, &quot;text&quot;: 0.0, &quot;textColor&quot;: &quot;#000000&quot;}\n",
       "            )\n",
       "            marker_757fba494e082a0b673e6918c37094af.setIcon(beautify_icon_139f7150e5b2b28d178e061192f02764);\n",
       "        \n",
       "    \n",
       "        var popup_b51e4793f11a44bdd3fb508e328d5dbd = L.popup({&quot;maxWidth&quot;: &quot;100%&quot;});\n",
       "\n",
       "        \n",
       "            \n",
       "                var html_5b94acd97418e769e78964e69f6e7fb1 = $(`&lt;div id=&quot;html_5b94acd97418e769e78964e69f6e7fb1&quot; style=&quot;width: 100.0%; height: 100.0%;&quot;&gt;Grupo Halley&lt;/div&gt;`)[0];\n",
       "                popup_b51e4793f11a44bdd3fb508e328d5dbd.setContent(html_5b94acd97418e769e78964e69f6e7fb1);\n",
       "            \n",
       "        \n",
       "\n",
       "        marker_757fba494e082a0b673e6918c37094af.bindPopup(popup_b51e4793f11a44bdd3fb508e328d5dbd)\n",
       "        ;\n",
       "\n",
       "        \n",
       "    \n",
       "&lt;/script&gt;\n",
       "&lt;/html&gt;\" style=\"position:absolute;width:100%;height:100%;left:0;top:0;border:none !important;\" allowfullscreen webkitallowfullscreen mozallowfullscreen></iframe></div></div>"
      ],
      "text/plain": [
       "<folium.folium.Map at 0x7f95a01fa9e0>"
      ]
     },
     "execution_count": 32,
     "metadata": {},
     "output_type": "execute_result"
    }
   ],
   "source": [
    "# Coordenadas de Bucaramanga, Colombia\n",
    "\n",
    "# Calcular centro entre estaciones extremas\n",
    "latitudes = np.array(Estaciones)[:,2].astype('float64')\n",
    "latitud = (np.max(latitudes)+np.min(latitudes))/2\n",
    "longitudes = np.array(Estaciones)[:,3].astype('float64')\n",
    "longitud = (np.max(longitudes)+np.min(longitudes))/2\n",
    "\n",
    "#latitud = 7.1212675138485695\n",
    "#longitud = -73.12578300721671\n",
    "\n",
    "z = int(13-np.log2(10*(np.max(latitudes)-np.min(latitudes)))) # Zoom inicial en el mapa\n",
    "\n",
    "# Crear el mapa de Bucaramanga con el estilo \"CartoDB Positron\"\n",
    "bucaramanga_map = folium.Map(location=[latitud, longitud], \n",
    "                              zoom_start=z, tiles='CartoDB Positron',width=677,height=690, zoom_control=False)\n",
    "\n",
    "\n",
    "def get_color(number):\n",
    "    if number==0:\n",
    "        return \"#808080\"  #black\n",
    "    elif 0 < number <= 12:\n",
    "        return '#00FF2E'  # Verde\n",
    "    elif 13 <= number <= 35:\n",
    "        return '#FFE000'  # Amarillo\n",
    "    elif 38 <= number <= 55:\n",
    "        return '#FF6100'  # Naranja\n",
    "    elif 56 <= number:\n",
    "        return '#FF0000'  # Rojo\n",
    "\n",
    "    \n",
    "for i in range(len(pm25)):\n",
    "        \n",
    "        if pm25[i] >= 0.0: # Valor crítico para alerta. Es 0 si se quieren mostrar todas las estaciones\n",
    "\n",
    "            # Crear el ícono personalizado con un número\n",
    "            icon_number = BeautifyIcon(\n",
    "            border_color=get_color(pm25[i]),\n",
    "            text_color='#000000',#get_color(pm25[i]),\n",
    "            number=np.round(pm25[i],1),\n",
    "            background_color='transparent', # Fondo transparente para que se vean estaciones cercanas entre sí\n",
    "            icon_size=(40, 40),  # Tamaño del ícono en píxeles\n",
    "            inner_icon_style='line-height:25px; font-size: 12px;',  # Ajusta el tamaño de la fuente aquí\n",
    "            spin=True,\n",
    "            border_width=2,\n",
    "            )\n",
    "\n",
    "            # Agregar marcador al mapa\n",
    "            folium.Marker(\n",
    "                [Estaciones[i][2], Estaciones[i][3]],\n",
    "                popup=Estaciones[i][1],\n",
    "                icon=icon_number\n",
    "            ).add_to(bucaramanga_map)\n",
    "\n",
    "bucaramanga_map"
   ]
  },
  {
   "cell_type": "code",
   "execution_count": 33,
   "id": "23e3d84b-4383-49de-935c-7307feb036db",
   "metadata": {
    "tags": []
   },
   "outputs": [],
   "source": [
    "# Convertir mapa a imagen\n",
    "bucaramanga_map.save('mapa.html')\n",
    "\n",
    "import io\n",
    "from PIL import Image\n",
    "\n",
    "img_data = bucaramanga_map._to_png(5)\n",
    "img = Image.open(io.BytesIO(img_data))\n",
    "img.save('mapa.png')\n",
    "\n",
    "plantilla = Image.open('plantilla.jpeg') # Debe añadirse manualmente en la plantilla las estaciones a mostrar\n",
    "plantilla.paste(img,(0,80)) # Se une la imagen generada con la plantilla\n",
    "\n",
    "#new_image.save(\"images/merged_image.jpg\",\"JPEG\")\n",
    "#print(full_image.size)\n",
    "plantilla.show()\n",
    "\n",
    "plantilla.save('mapa_full.png')\n",
    "\n",
    "import os\n",
    "\n",
    "os.remove('mapa.png')\n",
    "os.remove('mapa.html')\n",
    "os.remove('geckodriver.log')"
   ]
  },
  {
   "cell_type": "code",
   "execution_count": 9,
   "id": "68690d11",
   "metadata": {
    "tags": []
   },
   "outputs": [],
   "source": [
    "import tweepy\n",
    "\n",
    "# Llaves de acceso api de twitter\n",
    "\n",
    "api_key = \"VSBbc9ePnJEbqAIjYpy985m7T\"\n",
    "api_key_secret = \"3DvgqIJSoGa97NlTv8JpCApKQEkdkfZuHxmdFplZJGJ1wovH5J\"\n",
    "access_token= '1651973312304627717-oSv22bNGgZ6VLKvFOX1pfTzju8jUEs'\n",
    "access_token_secret= '7ENTTpeWdlXYFpqOq1efUV8DAdnHbkfLNDdivQ5t3yLvM'\n",
    "bearer_token='AAAAAAAAAAAAAAAAAAAAAGiongEAAAAAi74ne7ihUqSAiBF4K%2Ft9JdeY8DE%3DPgLdwViyIFqUrKRpCkcVsPqkMG2btwJaDAdUF13vdiFwPIbhlK'"
   ]
  },
  {
   "cell_type": "code",
   "execution_count": 10,
   "id": "7b956976",
   "metadata": {
    "tags": []
   },
   "outputs": [],
   "source": [
    "# Conexión api de twitter\n",
    "\n",
    "client = tweepy.Client(bearer_token, api_key, api_key_secret, access_token, access_token_secret)\n",
    "auth = tweepy.OAuth1UserHandler(api_key, api_key_secret, access_token, access_token_secret)\n",
    "api = tweepy.API(auth)"
   ]
  },
  {
   "cell_type": "code",
   "execution_count": 11,
   "id": "6df26a34",
   "metadata": {
    "tags": []
   },
   "outputs": [
    {
     "data": {
      "text/plain": [
       "Response(data={'edit_history_tweet_ids': ['1667181820859895808'], 'id': '1667181820859895808', 'text': '#CalidadAireBucaramanga Reporte de calidad de aire (material particulado 2.5 mm) 2023-06-09 09:47:47 hora local.\\n\\nMás información: https://t.co/VDNNeGlk0O https://t.co/kPDWDHIifd'}, includes={}, errors=[], meta={})"
      ]
     },
     "execution_count": 11,
     "metadata": {},
     "output_type": "execute_result"
    }
   ],
   "source": [
    "tweet = f'''#CalidadAireBucaramanga Reporte de calidad de aire (material particulado 2.5 mm) {fechaFin} hora local.\\n\n",
    "Más información: https://class.redclara.net/halley/moncora/intro.html'''\n",
    "\n",
    "media = api.media_upload('mapa_full.png')\n",
    "\n",
    "client.create_tweet(text = tweet, media_ids=[media.media_id_string])"
   ]
  },
  {
   "cell_type": "code",
   "execution_count": null,
   "id": "c32debb8",
   "metadata": {},
   "outputs": [],
   "source": []
  }
 ],
 "metadata": {
  "kernelspec": {
   "display_name": "Python 3 (ipykernel)",
   "language": "python",
   "name": "python3"
  },
  "language_info": {
   "codemirror_mode": {
    "name": "ipython",
    "version": 3
   },
   "file_extension": ".py",
   "mimetype": "text/x-python",
   "name": "python",
   "nbconvert_exporter": "python",
   "pygments_lexer": "ipython3",
   "version": "3.10.10"
  }
 },
 "nbformat": 4,
 "nbformat_minor": 5
}
