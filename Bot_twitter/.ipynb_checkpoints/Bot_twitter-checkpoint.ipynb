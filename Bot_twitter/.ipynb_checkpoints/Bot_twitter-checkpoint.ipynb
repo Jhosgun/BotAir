{
 "cells": [
  {
   "cell_type": "markdown",
   "id": "5d6c0134",
   "metadata": {},
   "source": [
    "# Bot twitter\n",
    "\n",
    "Este bot genera reportes diarios de la calidad de aire en las últimas 24 horas y se publican en twitter."
   ]
  },
  {
   "cell_type": "code",
   "execution_count": 1,
   "id": "74172a47",
   "metadata": {},
   "outputs": [
    {
     "data": {
      "text/plain": [
       "'\\n!pip install APIMakeSens\\n!pip install folium\\n!pip install tweepy\\n!pip install selenium\\n'"
      ]
     },
     "execution_count": 1,
     "metadata": {},
     "output_type": "execute_result"
    }
   ],
   "source": [
    "# Instalar librerías\n",
    "\"\"\"\n",
    "!pip install APIMakeSens\n",
    "!pip install folium\n",
    "!pip install tweepy\n",
    "!pip install selenium\n",
    "\"\"\""
   ]
  },
  {
   "cell_type": "markdown",
   "id": "72ab120a",
   "metadata": {},
   "source": [
    "### Cómo ejecutar este código automáticamente a una hora específica:\n",
    "\n",
    "1. Descarga el notebook como un archivo .py (Asegurarse que esté en el mismo directorio que el archivo \"plantilla.png\".\n",
    "\n",
    "\n",
    "2. Ejecuta en la terminal sudo nano /etc/crontab.\n",
    "\n",
    "\n",
    "3. Añade una nueva línea al final del archivo con el siguiente formato:\n",
    "\n",
    "    \\<minuto> \\<hora> * * * \\<usuario> python3 /ruta/del/script.py\n",
    "\n",
    "    \\<minuto> representa el minuto de la hora en la que deseas ejecutar el comando, \\<hora> representa la hora del día en formato 24 horas, y * * * significa que el comando se ejecutará cualquier día del mes y cualquier día de la semana. \\<usuario> es el usuario bajo el cual se ejecutará el comando. Asegúrate de reemplazar \\<usuario> con el nombre de usuario correcto.\n",
    "    \n",
    "\n",
    "4. Guarda y cierra el archivo /etc/crontab.\n",
    "\n",
    "    Después de guardar los cambios en /etc/crontab, la tarea programada se ejecutará automáticamente según la hora especificada. Recuerda asegurarte de proporcionar la ruta correcta hacia el intérprete de Python (p.ej. /usr/bin/Python3) y la ruta correcta hacia tu script (/ruta/del/script.py). Además, ten en cuenta que el usuario especificado debe tener los permisos adecuados para ejecutar el script y acceder a cualquier archivo o recurso requerido por el script.\n",
    "\n",
    "    \n",
    "Finalmente es importante cambiar la ruta de la variable path dentro del código para que desde cron pueda acceder a ellas correctamente."
   ]
  },
  {
   "cell_type": "code",
   "execution_count": 1,
   "id": "40fa4f89",
   "metadata": {
    "tags": []
   },
   "outputs": [],
   "source": [
    "# Librerias\n",
    "from MakeSens import MakeSens\n",
    "import numpy as np\n",
    "import datetime\n",
    "import pytz\n",
    "import folium\n",
    "from folium.plugins import BeautifyIcon"
   ]
  },
  {
   "cell_type": "code",
   "execution_count": 2,
   "id": "151f53c4",
   "metadata": {
    "tags": []
   },
   "outputs": [
    {
     "name": "stdout",
     "output_type": "stream",
     "text": [
      "2023-06-16 19:59:13 2023-06-15 19:59:13\n"
     ]
    }
   ],
   "source": [
    "# Rango de fecha\n",
    "fechaFin = datetime.datetime.now(pytz.timezone('America/Bogota')).strftime('%Y-%m-%d %H:%M:%S') # Fecha y hora Colombia\n",
    "#fechaInicio = fechaFin[:-8]+f'{int(fechaFin[-8:-6])-1:02}'+fechaFin[-6:] # Restar una hora\n",
    "\n",
    "past_date =  datetime.datetime.now(pytz.timezone('America/Bogota'))- datetime.timedelta(hours=24)  #Restar 24 horas\n",
    "fechaInicio = past_date.strftime('%Y-%m-%d %H:%M:%S')\n",
    "\n",
    "print(fechaFin,fechaInicio)"
   ]
  },
  {
   "cell_type": "code",
   "execution_count": 3,
   "id": "f54a5014",
   "metadata": {
    "tags": []
   },
   "outputs": [],
   "source": [
    "# Datos de Estaciones\n",
    "Estaciones = [('E2_00023','Grupo Halley',7.1393716,-73.1210968),\n",
    "            ('mE1_00004','Col. Tecnologico',7.1381572,-73.1180935),\n",
    "            ('mE1_00005','Col. Santander',7.1385332,-73.121327),\n",
    "            ('mE1_00007','Col. Normal',7.1277056,-73.116534),\n",
    "            ('mE1_00006','Col. Pilar',7.108717813305484, -73.12173474310134)]"
   ]
  },
  {
   "cell_type": "code",
   "execution_count": 4,
   "id": "6d1abcff",
   "metadata": {},
   "outputs": [],
   "source": [
    "# Creación manual de coordenadas de marcador de ubicación\n",
    "\n",
    "ubicaciones = []\n",
    "for est in Estaciones:\n",
    "    ubicaciones.append([est[2],est[3]])\n",
    "\n",
    "ubicaciones[0][0] += 0.00266\n",
    "ubicaciones[1][1] += 0.00266\n",
    "ubicaciones[2][1] -= 0.00266\n",
    "ubicaciones[3][0] -= 0.00266\n",
    "ubicaciones[4][0] -= 0.00266"
   ]
  },
  {
   "cell_type": "code",
   "execution_count": 5,
   "id": "6ec4611b",
   "metadata": {
    "tags": []
   },
   "outputs": [],
   "source": [
    "def get_pm25(Estaciones): # Obtener la media de pm25 de las estaciones\n",
    "    pm25 = []\n",
    "    Ntotal = int(24*30)\n",
    "    for est in Estaciones:\n",
    "        \n",
    "        data = MakeSens.download_data(est[0],fechaInicio,fechaFin,'m')\n",
    "        \n",
    "        if not data.empty: # Revisa que la estación tenga datos en el rango horario indicado\n",
    "            data.loc[data['pm25_1']>120,'pm25_1']=float(\"nan\") # Eliminar valores mayores a 120\n",
    "            pm25_1 = np.array(data['pm25_1'].dropna())\n",
    "            data.loc[data['pm25_2']>120,'pm25_2']=float(\"nan\") # Eliminar valores mayores a 120\n",
    "            pm25_2 = np.array(data['pm25_2'].dropna())\n",
    "            Ndata = data['pm25_1'].count()\n",
    "            if Ndata>0.5*Ntotal:     \n",
    "                pm25_mean = np.mean([data['pm25_1'].mean(),data['pm25_2'].mean()]) # Media entre la media de ambas columnas de pm25\n",
    "                pm25.append(pm25_mean)\n",
    "            else:\n",
    "                pm25.append(0.0)\n",
    "        else:\n",
    "            pm25.append(0.0)\n",
    "    return pm25"
   ]
  },
  {
   "cell_type": "code",
   "execution_count": 6,
   "id": "cee33d38-bcfd-4033-837c-89970ae06adb",
   "metadata": {
    "tags": []
   },
   "outputs": [],
   "source": [
    "pm25 = get_pm25(Estaciones)"
   ]
  },
  {
   "cell_type": "markdown",
   "id": "6a247506",
   "metadata": {},
   "source": [
    "### Mapa con valores de material particulado"
   ]
  },
  {
   "cell_type": "code",
   "execution_count": 7,
   "id": "3991a5eb",
   "metadata": {
    "tags": []
   },
   "outputs": [],
   "source": [
    "# Coordenadas de Bucaramanga, Colombia\n",
    "\n",
    "# Calcular centro entre estaciones extremas\n",
    "latitudes = np.array(Estaciones)[:,2].astype('float64')\n",
    "latitud = (np.max(latitudes)+np.min(latitudes))/2\n",
    "longitudes = np.array(Estaciones)[:,3].astype('float64')\n",
    "longitud = (np.max(longitudes)+np.min(longitudes))/2\n",
    "\n",
    "#latitud = 7.1212675138485695\n",
    "#longitud = -73.12578300721671\n",
    "\n",
    "z = int(13-np.log2(10*(np.max(latitudes)-np.min(latitudes)))) # Zoom inicial en el mapa\n",
    "\n",
    "# Crear el mapa de Bucaramanga con el estilo \"CartoDB Positron\"\n",
    "bucaramanga_map = folium.Map(location=[latitud, longitud], \n",
    "                              zoom_start=z, tiles='CartoDB Positron',width=677,height=660, zoom_control=False)\n",
    "\n",
    "\n",
    "def get_color(number):\n",
    "    if number==0:\n",
    "        return \"#808080\"  # Gris\n",
    "    elif 0 < number <= 12:\n",
    "        return '#00FF2E'  # Verde\n",
    "    elif 13 <= number <= 37:\n",
    "        return '#FFE000'  # Amarillo\n",
    "    elif 38 <= number <= 55:\n",
    "        return '#FF6100'  # Naranja\n",
    "    elif 56 <= number:\n",
    "        return '#FF0000'  # Rojo\n",
    "\n",
    "    \n",
    "for i in range(len(pm25)):\n",
    "        \n",
    "        if pm25[i] >= 0.0: # Valor crítico para alerta. Es 0 si se quieren mostrar todas las estaciones\n",
    "            \n",
    "            if pm25[i]==0.0:\n",
    "                valor = 'X'\n",
    "            else:\n",
    "                valor = np.round(pm25[i],1)\n",
    "            # Crear el ícono personalizado con un número\n",
    "            icon_number = BeautifyIcon(\n",
    "            border_color=get_color(pm25[i]),\n",
    "            text_color='#000000',#get_color(pm25[i]),\n",
    "            number=valor,\n",
    "            background_color='transparent', # Fondo transparente para que se vean estaciones cercanas entre sí\n",
    "            icon_size=(40, 40),  # Tamaño del ícono en píxeles\n",
    "            inner_icon_style='line-height:25px; font-size: 12px;',  # Ajusta el tamaño de la fuente aquí\n",
    "            spin=True,\n",
    "            border_width=2,\n",
    "            )\n",
    "\n",
    "            # Agregar marcador al mapa\n",
    "            folium.Marker(\n",
    "                [Estaciones[i][2], Estaciones[i][3]],\n",
    "                popup=Estaciones[i][1],\n",
    "                icon=icon_number\n",
    "            ).add_to(bucaramanga_map)\n",
    "            \n",
    "            location_marker = BeautifyIcon(\n",
    "            icon_shape='square',\n",
    "            text_color='#ffffff',#get_color(pm25[i]),\n",
    "            number=i+1,\n",
    "            border_color='#2f5786',\n",
    "            background_color='#2f5786', # Fondo transparente para que se vean estaciones cercanas entre sí\n",
    "            icon_size=(20, 20),  # Tamaño del ícono en píxeles\n",
    "            inner_icon_style='line-height:10px; font-size: 12px;',  # Ajusta el tamaño de la fuente aquí\n",
    "            spin=True,\n",
    "            border_width=2,\n",
    "            )\n",
    "\n",
    "            # Agregar marcador al mapa\n",
    "            folium.Marker(\n",
    "                ubicaciones[i],\n",
    "                popup=Estaciones[i][1],\n",
    "                icon=location_marker\n",
    "            ).add_to(bucaramanga_map)\n",
    "\n",
    "#bucaramanga_map"
   ]
  },
  {
   "cell_type": "markdown",
   "id": "caaec166",
   "metadata": {},
   "source": [
    "### Mapa con ubicaciones de las estaciones"
   ]
  },
  {
   "cell_type": "markdown",
   "id": "9fea07d5",
   "metadata": {},
   "source": [
    "Para guardar el mapa como imagen debe tenerse la plantilla en el mismo directorio que este código"
   ]
  },
  {
   "cell_type": "code",
   "execution_count": 8,
   "id": "23e3d84b-4383-49de-935c-7307feb036db",
   "metadata": {
    "tags": []
   },
   "outputs": [],
   "source": [
    "# Convertir mapa a imagen\n",
    "#bucaramanga_map.save('mapa.html')\n",
    "import io\n",
    "from PIL import Image\n",
    "\n",
    "# Ruta absoluta para acceder a archivos\n",
    "path = '/home/kevin/Repos/BotAir/Bot_twitter/'\n",
    "\n",
    "img_data = bucaramanga_map._to_png(5)\n",
    "img = Image.open(io.BytesIO(img_data))\n",
    "\n",
    "plantilla = Image.open(path+'plantilla.png') # Debe añadirse manualmente en la plantilla las estaciones a mostrar\n",
    "plantilla.paste(img,(0,80)) # Se une la imagen generada con la plantilla\n",
    "plantilla.save(path+'mapa_full.png')\n",
    "\n",
    "#plantilla.show()"
   ]
  },
  {
   "cell_type": "code",
   "execution_count": 9,
   "id": "68690d11",
   "metadata": {
    "tags": []
   },
   "outputs": [],
   "source": [
    "import tweepy\n",
    "\n",
    "# Llaves de acceso api de twitter\n",
    "\n",
    "api_key = \"HShcrrhB8RkBDziYkUhLYtuJ2\"\n",
    "api_key_secret = \"O59rkJfdgpb9mgltXMUqG6mpZRWMY46AzVH7rskY5X1idNRWOi\"\n",
    "access_token= '1667571403778826240-lvL0JpYNAarZfwBbXroLpiYpc7YIYp'\n",
    "access_token_secret= 'ELC2Y2jhhzzPvwVg0dPNgbfbKdMN8mSkWivQOoprkJqaA'\n",
    "bearer_token='AAAAAAAAAAAAAAAAAAAAAImjoAEAAAAA9IOPR54QLozTUAmbmUGoQaIIfIw%3Df2egcbl4AtpgBM3aVttbtgggAUPmJrfLH4jZkGRqcDLx7R2uZs'"
   ]
  },
  {
   "cell_type": "code",
   "execution_count": 10,
   "id": "7b956976",
   "metadata": {
    "tags": []
   },
   "outputs": [],
   "source": [
    "# Conexión api de twitter\n",
    "\n",
    "client = tweepy.Client(bearer_token, api_key, api_key_secret, access_token, access_token_secret)\n",
    "auth = tweepy.OAuth1UserHandler(api_key, api_key_secret, access_token, access_token_secret)\n",
    "api = tweepy.API(auth)"
   ]
  },
  {
   "cell_type": "code",
   "execution_count": 11,
   "id": "6df26a34",
   "metadata": {
    "tags": []
   },
   "outputs": [
    {
     "data": {
      "text/plain": [
       "Response(data={'edit_history_tweet_ids': ['1669539389754560513'], 'id': '1669539389754560513', 'text': '#CalidadAireBucaramanga Reporte diario de calidad de aire (material particulado 2.5 mm) 2023-06-14.\\n\\nMás información: https://t.co/pTchVBCISU https://t.co/BMaI0yA64b'}, includes={}, errors=[], meta={})"
      ]
     },
     "execution_count": 11,
     "metadata": {},
     "output_type": "execute_result"
    }
   ],
   "source": [
    "tweet = f'''#CalidadDelAire #Bucaramanga Reporte diario de calidad de aire (material particulado 2.5 mm) {fechaFin[:10]}.\\n\n",
    "Para conocer más sobre las estaciones y el proyecto racimo-móncora: https://class.redclara.net/halley/moncora/intro.html'''\n",
    "\n",
    "media = api.media_upload(path+'mapa_full.png')\n",
    "\n",
    "client.create_tweet(text = tweet, media_ids=[media.media_id_string])"
   ]
  },
  {
   "cell_type": "code",
   "execution_count": null,
   "id": "7f54dfab",
   "metadata": {},
   "outputs": [],
   "source": []
  }
 ],
 "metadata": {
  "kernelspec": {
   "display_name": "Python 3",
   "language": "python",
   "name": "python3"
  },
  "language_info": {
   "codemirror_mode": {
    "name": "ipython",
    "version": 3
   },
   "file_extension": ".py",
   "mimetype": "text/x-python",
   "name": "python",
   "nbconvert_exporter": "python",
   "pygments_lexer": "ipython3",
   "version": "3.8.8"
  }
 },
 "nbformat": 4,
 "nbformat_minor": 5
}
