{
 "cells": [
  {
   "cell_type": "code",
   "execution_count": 4,
   "id": "a541a77f-5d52-4ca0-9f40-1a5fadf3694f",
   "metadata": {
    "tags": []
   },
   "outputs": [],
   "source": [
    "import pandas as pd\n",
    "import numpy as np\n",
    "import datetime\n",
    "import pytz\n",
    "\n",
    "from MakeSens import MakeSens\n",
    "import seaborn as sns\n",
    "\n",
    "import matplotlib.pyplot as plt\n",
    "import matplotlib.dates as mdates"
   ]
  },
  {
   "cell_type": "code",
   "execution_count": 5,
   "id": "061dd1be-e9ba-4119-8222-187cc979b662",
   "metadata": {
    "tags": []
   },
   "outputs": [],
   "source": [
    "#fecha_inicio = \"2023-06-11 00:00:00\"\n",
    "#fecha_fin = \"2023-06-18 00:00:00\"\n",
    "\n",
    "# Rango de fecha\n",
    "fechaFin = datetime.datetime.now(pytz.timezone('America/Bogota')).strftime('%Y-%m-%d %H:%M:%S') # Fecha y hora Colombia\n",
    "#fechaInicio = fechaFin[:-8]+f'{int(fechaFin[-8:-6])-1:02}'+fechaFin[-6:] # Restar una hora\n",
    "\n",
    "past_date =  datetime.datetime.now(pytz.timezone('America/Bogota'))- datetime.timedelta(days=6)  #Restar 24 horas\n",
    "fechaInicio = past_date.strftime('%Y-%m-%d %H:%M:%S')\n",
    "\n",
    "Estaciones = [('E2_00023','Grupo Halley',7.1393716,-73.1210968),\n",
    "            ('mE1_00004','Col. Tecnologico',7.1381572,-73.1180935),\n",
    "            ('mE1_00005','Col. Santander',7.1385332,-73.121327),\n",
    "            ('mE1_00007','Col. Normal',7.1277056,-73.116534),\n",
    "            ('mE1_00006','Col. Pilar',7.108717813305484, -73.12173474310134),\n",
    "            ('mE1_00008','Col. FundeUis',7.05756, -73.0912)]\n",
    "\n",
    "frecuencia = \"m\"\n",
    "\n",
    "#Descargamos los datos de MakeSens"
   ]
  },
  {
   "cell_type": "code",
   "execution_count": 51,
   "id": "99dae61f-3f72-43ea-93f1-2b3379a3e12f",
   "metadata": {
    "tags": []
   },
   "outputs": [],
   "source": [
    "wd = 30\n",
    "ped = int(wd*0.1) \n",
    "\n",
    "def hour_mean(est):\n",
    "    global pm25\n",
    "    data = MakeSens.download_data(est, fechaInicio, fechaFin, frecuencia)\n",
    "    \n",
    "    if not data.empty:\n",
    "        pm25 = data[[\"pm25_1\", \"pm25_2\"]].copy(deep=True)\n",
    "        pm25.index = pd.to_datetime(pm25.index) #Convertimos el indice a formato fecha\n",
    "        \n",
    "        pm25.pm25_1 = pm25.pm25_1.where(pm25.pm25_1 < 120, np.nan)\n",
    "        pm25.pm25_2 = pm25.pm25_2.where(pm25.pm25_2 < 120, np.nan)\n",
    "        \n",
    "        pm25['pm25_1_r'] = pm25['pm25_1'].rolling(window=wd, min_periods=ped).mean() \n",
    "        pm25['pm25_2_r'] = pm25['pm25_2'].rolling(window = wd,min_periods=ped).mean()\n",
    "        \n",
    "        pm25['hour'] = pm25.index.hour\n",
    "        \n",
    "        hourly_1 = pm25.pm25_1_r.groupby(pm25.hour).mean()\n",
    "        hourly_2 = pm25.pm25_2_r.groupby(pm25.hour).mean()\n",
    "        \n",
    "        data_final = ((hourly_1+hourly_2)/2.0).to_frame()\n",
    "        \n",
    "    else:\n",
    "        pm25 = data\n",
    "        data_final = data\n",
    "    \n",
    "    return data_final"
   ]
  },
  {
   "cell_type": "code",
   "execution_count": 100,
   "id": "2cf8059e-bcfe-4bbf-b468-377998c09fa7",
   "metadata": {},
   "outputs": [],
   "source": [
    "Week = {\n",
    "  1: \"Lunes\",\n",
    "  2: \"Martes\",\n",
    "  3: \"Miercoles\",\n",
    "  4: \"Jueves\",\n",
    "  5: \"Viernes\",\n",
    "  6: \"Sabado\",\n",
    "  7: \"Domingo\"\n",
    "}\n",
    "Ntotal = int(24*30)\n",
    "\n",
    "def day_mean(data,j):\n",
    "    \n",
    "    if not data.empty:\n",
    "        data.dropna()\n",
    "        pm25['day'] = pm25.index.day\n",
    "        dfw = [ g for _,g in  data.groupby(data.day)]\n",
    "        \n",
    "        NN = len(dfw)\n",
    "        pm25_grid = np.zeros(NN)\n",
    "        day = []\n",
    "        for i in range(NN):\n",
    "            Ndata = dfw[i]['pm25_1'].count()\n",
    "            day_p = dfw[i].index.isocalendar().day[0]\n",
    "            \n",
    "            number = dfw[i].day[0]\n",
    "            day.append( \"_\".join([Week[day_p], str(number)]) )\n",
    "            \n",
    "            if Ndata>0.5*Ntotal:     \n",
    "                pm25_grid[i] = np.mean([dfw[i]['pm25_1'].mean(),dfw[i]['pm25_2'].mean()])\n",
    "            else:\n",
    "                pm25_grid[i] = np.nan\n",
    "                \n",
    "        df2 = pd.DataFrame( [ np.array(pm25_grid) ],\n",
    "                           columns=day)\n",
    "        \n",
    "        df2 = df2.set_index( pd.Index( [ Estaciones[j][1] ] ) )\n",
    "    \n",
    "    else:\n",
    "        df2 = data\n",
    "    \n",
    "    return  df2"
   ]
  },
  {
   "cell_type": "code",
   "execution_count": 112,
   "id": "88d075da-26ac-4672-b9c1-b9a7ca1e01b6",
   "metadata": {
    "tags": []
   },
   "outputs": [],
   "source": [
    "hr_0 = hour_mean(Estaciones[0][0])\n",
    "hr_0.columns = [Estaciones[0][1]]\n",
    "\n",
    "day_0 = day_mean(pm25,0)\n",
    "#day_0 = day_0.set_index( pd.Index( [ Estaciones[0][1] ] ) )\n",
    "#day_0.head()"
   ]
  },
  {
   "cell_type": "code",
   "execution_count": 113,
   "id": "16a28fed-f928-4670-bc8d-37f20070c225",
   "metadata": {
    "tags": []
   },
   "outputs": [
    {
     "name": "stdout",
     "output_type": "stream",
     "text": [
      "Col. Tecnologico\n",
      "Col. Santander\n",
      "Col. Normal\n",
      "Col. Pilar\n",
      "Col. FundeUis\n"
     ]
    }
   ],
   "source": [
    "Nest=len(Estaciones)\n",
    "\n",
    "for i in range(1,Nest):\n",
    "    print(Estaciones[i][1])\n",
    "    hr_1 = hour_mean( Estaciones[i][0] )\n",
    "    day_1 = day_mean(pm25,i)\n",
    "    \n",
    "    if not hr_1.empty:\n",
    "        hr_1.columns = [ Estaciones[i][1] ] \n",
    "        hr_0 = hr_0.join(hr_1)\n",
    "    \n",
    "    if not day_1.empty:\n",
    "        #day_1 = day_1.set_index( pd.Index( [ Estaciones[i][1] ] ) )\n",
    "        #day_0  = day_0.reset_index()\n",
    "        #day_1  = day_1.reset_index()\n",
    "        day_0 = pd.concat([day_0, day_1])\n"
   ]
  },
  {
   "cell_type": "code",
   "execution_count": 114,
   "id": "01a1138e-675a-4200-ae42-f28fa6975e34",
   "metadata": {
    "tags": []
   },
   "outputs": [],
   "source": [
    "df_all_transposed = hr_0.transpose()"
   ]
  },
  {
   "cell_type": "code",
   "execution_count": 137,
   "id": "4b7d9f56-b244-4821-a9ed-ed9e5b5ac1be",
   "metadata": {
    "tags": []
   },
   "outputs": [
    {
     "data": {
      "image/png": "[encoded data removed]",
      "text/plain": [
       "<Figure size 1000x1000 with 2 Axes>"
      ]
     },
     "metadata": {},
     "output_type": "display_data"
    }
   ],
   "source": [
    "plt.figure(figsize=(10,10), facecolor='w', edgecolor='k')\n",
    "sns.heatmap(df_all_transposed,cmap=\"viridis\",square=True, linewidths=2,\n",
    "           cbar_kws={'fraction' : 0.01, 'label': '$PM_{2.5}\\,  \\mu g\\, \\, cm^{-3}$'})\n",
    "\n",
    "plt.yticks(rotation=0) \n",
    "plt.xlabel('Hora')\n",
    "\n",
    "plt.show()"
   ]
  },
  {
   "cell_type": "code",
   "execution_count": 116,
   "id": "85d65a6e-dcaa-46db-9c85-4d4fe7afce81",
   "metadata": {},
   "outputs": [
    {
     "data": {
      "text/html": [
       "<div>\n",
       "<style scoped>\n",
       "    .dataframe tbody tr th:only-of-type {\n",
       "        vertical-align: middle;\n",
       "    }\n",
       "\n",
       "    .dataframe tbody tr th {\n",
       "        vertical-align: top;\n",
       "    }\n",
       "\n",
       "    .dataframe thead th {\n",
       "        text-align: right;\n",
       "    }\n",
       "</style>\n",
       "<table border=\"1\" class=\"dataframe\">\n",
       "  <thead>\n",
       "    <tr style=\"text-align: right;\">\n",
       "      <th></th>\n",
       "      <th>Sabado_17</th>\n",
       "      <th>Domingo_18</th>\n",
       "      <th>Lunes_19</th>\n",
       "      <th>Martes_20</th>\n",
       "      <th>Miercoles_21</th>\n",
       "      <th>Jueves_22</th>\n",
       "      <th>Viernes_23</th>\n",
       "      <th>Sabado_24</th>\n",
       "    </tr>\n",
       "  </thead>\n",
       "  <tbody>\n",
       "    <tr>\n",
       "      <th>Grupo Halley</th>\n",
       "      <td>9.359216</td>\n",
       "      <td>18.410714</td>\n",
       "      <td>14.704193</td>\n",
       "      <td>19.186981</td>\n",
       "      <td>20.597073</td>\n",
       "      <td>22.669789</td>\n",
       "      <td>13.894153</td>\n",
       "      <td>NaN</td>\n",
       "    </tr>\n",
       "    <tr>\n",
       "      <th>Col. Tecnologico</th>\n",
       "      <td>NaN</td>\n",
       "      <td>10.777869</td>\n",
       "      <td>8.337025</td>\n",
       "      <td>11.704310</td>\n",
       "      <td>12.619621</td>\n",
       "      <td>13.324212</td>\n",
       "      <td>7.784641</td>\n",
       "      <td>NaN</td>\n",
       "    </tr>\n",
       "    <tr>\n",
       "      <th>Col. Normal</th>\n",
       "      <td>NaN</td>\n",
       "      <td>13.857567</td>\n",
       "      <td>10.298663</td>\n",
       "      <td>14.143485</td>\n",
       "      <td>16.628488</td>\n",
       "      <td>18.443959</td>\n",
       "      <td>11.821596</td>\n",
       "      <td>NaN</td>\n",
       "    </tr>\n",
       "    <tr>\n",
       "      <th>Col. Pilar</th>\n",
       "      <td>NaN</td>\n",
       "      <td>12.449580</td>\n",
       "      <td>8.891608</td>\n",
       "      <td>11.690845</td>\n",
       "      <td>15.398250</td>\n",
       "      <td>15.044668</td>\n",
       "      <td>13.687761</td>\n",
       "      <td>NaN</td>\n",
       "    </tr>\n",
       "    <tr>\n",
       "      <th>Col. FundeUis</th>\n",
       "      <td>NaN</td>\n",
       "      <td>NaN</td>\n",
       "      <td>NaN</td>\n",
       "      <td>NaN</td>\n",
       "      <td>NaN</td>\n",
       "      <td>NaN</td>\n",
       "      <td>NaN</td>\n",
       "      <td>NaN</td>\n",
       "    </tr>\n",
       "  </tbody>\n",
       "</table>\n",
       "</div>"
      ],
      "text/plain": [
       "                  Sabado_17  Domingo_18   Lunes_19  Martes_20  Miercoles_21  \\\n",
       "Grupo Halley       9.359216   18.410714  14.704193  19.186981     20.597073   \n",
       "Col. Tecnologico        NaN   10.777869   8.337025  11.704310     12.619621   \n",
       "Col. Normal             NaN   13.857567  10.298663  14.143485     16.628488   \n",
       "Col. Pilar              NaN   12.449580   8.891608  11.690845     15.398250   \n",
       "Col. FundeUis           NaN         NaN        NaN        NaN           NaN   \n",
       "\n",
       "                  Jueves_22  Viernes_23  Sabado_24  \n",
       "Grupo Halley      22.669789   13.894153        NaN  \n",
       "Col. Tecnologico  13.324212    7.784641        NaN  \n",
       "Col. Normal       18.443959   11.821596        NaN  \n",
       "Col. Pilar        15.044668   13.687761        NaN  \n",
       "Col. FundeUis           NaN         NaN        NaN  "
      ]
     },
     "execution_count": 116,
     "metadata": {},
     "output_type": "execute_result"
    }
   ],
   "source": [
    "day_0.head()"
   ]
  },
  {
   "cell_type": "code",
   "execution_count": 118,
   "id": "b2016ea0-06cc-44ef-94ad-a7eaeee31797",
   "metadata": {},
   "outputs": [
    {
     "data": {
      "image/png": "[encoded data removed]",
      "text/plain": [
       "<Figure size 1000x1000 with 2 Axes>"
      ]
     },
     "metadata": {},
     "output_type": "display_data"
    }
   ],
   "source": [
    "plt.figure(figsize=(10,10), facecolor='w', edgecolor='k')\n",
    "sns.heatmap(day_0,cmap=\"viridis\",square=True,\n",
    "           cbar_kws={'fraction' : 0.01, 'label': '$PM_{2.5}\\,  \\mu g\\, \\, cm^{-3}$'})\n",
    "\n",
    "plt.yticks(rotation=0) \n",
    "#plt.xlabel('Hora')\n",
    "\n",
    "plt.show()"
   ]
  },
  {
   "cell_type": "code",
   "execution_count": null,
   "id": "17a3fd56-d8c9-4ffb-b046-9ac7d4636fc9",
   "metadata": {},
   "outputs": [],
   "source": []
  }
 ],
 "metadata": {
  "kernelspec": {
   "display_name": "Python 3 (ipykernel)",
   "language": "python",
   "name": "python3"
  },
  "language_info": {
   "codemirror_mode": {
    "name": "ipython",
    "version": 3
   },
   "file_extension": ".py",
   "mimetype": "text/x-python",
   "name": "python",
   "nbconvert_exporter": "python",
   "pygments_lexer": "ipython3",
   "version": "3.10.10"
  }
 },
 "nbformat": 4,
 "nbformat_minor": 5
}
