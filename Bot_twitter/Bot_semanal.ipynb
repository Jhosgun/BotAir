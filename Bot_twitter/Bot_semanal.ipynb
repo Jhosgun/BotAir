{
 "cells": [
  {
   "cell_type": "code",
   "execution_count": 1,
   "id": "a541a77f-5d52-4ca0-9f40-1a5fadf3694f",
   "metadata": {
    "tags": []
   },
   "outputs": [],
   "source": [
    "import pandas as pd\n",
    "import numpy as np\n",
    "import datetime\n",
    "import pytz\n",
    "\n",
    "from MakeSens import MakeSens\n",
    "import seaborn as sns\n",
    "\n",
    "import matplotlib.pyplot as plt\n",
    "import matplotlib.dates as mdates"
   ]
  },
  {
   "cell_type": "code",
   "execution_count": 2,
   "id": "061dd1be-e9ba-4119-8222-187cc979b662",
   "metadata": {
    "tags": []
   },
   "outputs": [],
   "source": [
    "#fecha_inicio = \"2023-06-11 00:00:00\"\n",
    "#fecha_fin = \"2023-06-18 00:00:00\"\n",
    "\n",
    "# Rango de fecha\n",
    "fechaFin = datetime.datetime.now(pytz.timezone('America/Bogota')).strftime('%Y-%m-%d %H:%M:%S') # Fecha y hora Colombia\n",
    "#fechaInicio = fechaFin[:-8]+f'{int(fechaFin[-8:-6])-1:02}'+fechaFin[-6:] # Restar una hora\n",
    "\n",
    "past_date =  datetime.datetime.now(pytz.timezone('America/Bogota'))- datetime.timedelta(days=7)  #Restar 24 horas\n",
    "fechaInicio = past_date.strftime('%Y-%m-%d %H:%M:%S')\n",
    "\n",
    "Estaciones = [('E2_00023','Grupo Halley',7.1393716,-73.1210968),\n",
    "            ('mE1_00004','Col. Tecnologico',7.1381572,-73.1180935),\n",
    "            ('mE1_00005','Col. Santander',7.1385332,-73.121327),\n",
    "            ('mE1_00007','Col. Normal',7.1277056,-73.116534),\n",
    "            ('mE1_00006','Col. Pilar',7.108717813305484, -73.12173474310134)]\n",
    "\n",
    "frecuencia = \"m\"\n",
    "\n",
    "#Descargamos los datos de MakeSens"
   ]
  },
  {
   "cell_type": "code",
   "execution_count": 3,
   "id": "99dae61f-3f72-43ea-93f1-2b3379a3e12f",
   "metadata": {
    "tags": []
   },
   "outputs": [],
   "source": [
    "wd = 30\n",
    "ped = int(wd*0.1) \n",
    "\n",
    "def hour_mean(est):\n",
    "    data = MakeSens.download_data(est, fechaInicio, fechaFin, frecuencia)\n",
    "    \n",
    "    if not data.empty:\n",
    "        pm25 = data[[\"pm25_1\", \"pm25_2\"]].copy(deep=True)\n",
    "        pm25.index = pd.to_datetime(pm25.index) #Convertimos el indice a formato fecha\n",
    "        \n",
    "        pm25.pm25_1 = pm25.pm25_1.where(pm25.pm25_1 < 120, np.nan)\n",
    "        pm25.pm25_2 = pm25.pm25_2.where(pm25.pm25_2 < 120, np.nan)\n",
    "        \n",
    "        pm25['pm25_1_r'] = pm25['pm25_1'].rolling(window=wd, min_periods=ped).mean() \n",
    "        pm25['pm25_2_r'] = pm25['pm25_2'].rolling(window = wd,min_periods=ped).mean()\n",
    "        \n",
    "        pm25['hour'] = pm25.index.hour\n",
    "        \n",
    "        hourly_1 = pm25.pm25_1_r.groupby(pm25.hour).mean()\n",
    "        hourly_2 = pm25.pm25_2_r.groupby(pm25.hour).mean()\n",
    "        \n",
    "        data_final = ((hourly_1+hourly_2)/2.0).to_frame()\n",
    "        \n",
    "    else:\n",
    "        data_final = data\n",
    "    \n",
    "    return data_final"
   ]
  },
  {
   "cell_type": "code",
   "execution_count": 4,
   "id": "88d075da-26ac-4672-b9c1-b9a7ca1e01b6",
   "metadata": {
    "tags": []
   },
   "outputs": [],
   "source": [
    "hr_0 = hour_mean(Estaciones[0][0])\n",
    "hr_0.columns = [Estaciones[0][1]] "
   ]
  },
  {
   "cell_type": "code",
   "execution_count": 5,
   "id": "16a28fed-f928-4670-bc8d-37f20070c225",
   "metadata": {
    "tags": []
   },
   "outputs": [
    {
     "name": "stdout",
     "output_type": "stream",
     "text": [
      "Col. Tecnologico\n",
      "Col. Santander\n",
      "Col. Normal\n",
      "Col. Pilar\n"
     ]
    }
   ],
   "source": [
    "Nest=len(Estaciones)\n",
    "\n",
    "for i in range(1,Nest):\n",
    "    print(Estaciones[i][1])\n",
    "    hr_1 = hour_mean( Estaciones[i][0] )\n",
    "    \n",
    "    if not hr_1.empty:\n",
    "        hr_1.columns = [ Estaciones[i][1] ] \n",
    "        hr_0 = hr_0.join(hr_1)"
   ]
  },
  {
   "cell_type": "code",
   "execution_count": 6,
   "id": "01a1138e-675a-4200-ae42-f28fa6975e34",
   "metadata": {
    "tags": []
   },
   "outputs": [],
   "source": [
    "df_all_transposed = hr_0.transpose()"
   ]
  },
  {
   "cell_type": "code",
   "execution_count": 12,
   "id": "4b7d9f56-b244-4821-a9ed-ed9e5b5ac1be",
   "metadata": {
    "tags": []
   },
   "outputs": [
    {
     "data": {
      "image/png": "[encoded data removed]",
      "text/plain": [
       "<Figure size 1000x1000 with 2 Axes>"
      ]
     },
     "metadata": {},
     "output_type": "display_data"
    }
   ],
   "source": [
    "plt.figure(figsize=(10,10), facecolor='w', edgecolor='k')\n",
    "sns.heatmap(df_all_transposed,cmap=\"viridis\",square=True,\n",
    "           cbar_kws={'fraction' : 0.01, 'label': '$PM_{2.5}\\,  \\mu g\\, \\, cm^{-3}$'})\n",
    "\n",
    "plt.yticks(rotation=0) \n",
    "plt.xlabel('Hora')\n",
    "\n",
    "plt.show()"
   ]
  },
  {
   "cell_type": "code",
   "execution_count": null,
   "id": "85d65a6e-dcaa-46db-9c85-4d4fe7afce81",
   "metadata": {},
   "outputs": [],
   "source": []
  },
  {
   "cell_type": "code",
   "execution_count": null,
   "id": "b2016ea0-06cc-44ef-94ad-a7eaeee31797",
   "metadata": {},
   "outputs": [],
   "source": []
  }
 ],
 "metadata": {
  "kernelspec": {
   "display_name": "Python 3 (ipykernel)",
   "language": "python",
   "name": "python3"
  },
  "language_info": {
   "codemirror_mode": {
    "name": "ipython",
    "version": 3
   },
   "file_extension": ".py",
   "mimetype": "text/x-python",
   "name": "python",
   "nbconvert_exporter": "python",
   "pygments_lexer": "ipython3",
   "version": "3.10.10"
  }
 },
 "nbformat": 4,
 "nbformat_minor": 5
}
