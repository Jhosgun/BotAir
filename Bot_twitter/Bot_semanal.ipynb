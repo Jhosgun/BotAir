{
 "cells": [
  {
   "cell_type": "code",
   "execution_count": 1,
   "id": "a541a77f-5d52-4ca0-9f40-1a5fadf3694f",
   "metadata": {
    "tags": []
   },
   "outputs": [],
   "source": [
    "import pandas as pd\n",
    "import numpy as np\n",
    "import datetime\n",
    "import pytz\n",
    "\n",
    "from MakeSens import MakeSens\n",
    "import seaborn as sns\n",
    "\n",
    "import matplotlib.pyplot as plt\n",
    "import matplotlib.dates as mdates\n",
    "\n",
    "from matplotlib.colors import LinearSegmentedColormap\n",
    "import matplotlib as mpl\n",
    "mpl.rcParams.update(mpl.rcParamsDefault)\n",
    "plt.rc('text',usetex=True)\n",
    "plt.rc('font',size=16)"
   ]
  },
  {
   "cell_type": "code",
   "execution_count": 2,
   "id": "061dd1be-e9ba-4119-8222-187cc979b662",
   "metadata": {
    "tags": []
   },
   "outputs": [],
   "source": [
    "#fecha_inicio = \"2023-06-11 00:00:00\"\n",
    "#fecha_fin = \"2023-06-18 00:00:00\"\n",
    "\n",
    "# Rango de fecha\n",
    "#fechaFin = datetime.datetime.now(pytz.timezone('America/Bogota')).strftime('%Y-%m-%d %H:%M:%S') # Fecha y hora Colombia\n",
    "nowtime = datetime.datetime.combine(datetime.datetime.now(pytz.timezone('America/Bogota')), datetime.datetime.min.time())# Fecha y hora Colombia (medianoche)\n",
    "fechaFin = nowtime.strftime('%Y-%m-%d %H:%M:%S') # Fecha y hora Colombia (medianoche)\n",
    "#fechaInicio = fechaFin[:-8]+f'{int(fechaFin[-8:-6])-1:02}'+fechaFin[-6:] # Restar una hora\n",
    "\n",
    "past_date =  nowtime - datetime.timedelta(days=6)  #Restar 6 días\n",
    "fechaInicio = past_date.strftime('%Y-%m-%d %H:%M:%S')\n",
    "\n",
    "Estaciones = [('E2_00023','Grupo Halley',7.1393716,-73.1210968),\n",
    "            ('mE1_00004','Col. Tecnologico',7.1381572,-73.1180935),\n",
    "            ('mE1_00005','Col. Santander',7.1385332,-73.121327),\n",
    "            ('mE1_00007','Col. Normal',7.1277056,-73.116534),\n",
    "            ('mE1_00006','Col. Pilar',7.108717813305484, -73.12173474310134),\n",
    "            ('mE1_00008','Col. FundeUis',7.05756, -73.0912)]\n",
    "\n",
    "frecuencia = \"m\"\n",
    "\n",
    "Nest=len(Estaciones)\n",
    "\n",
    "#Descargamos los datos de MakeSens"
   ]
  },
  {
   "cell_type": "code",
   "execution_count": 3,
   "id": "99dae61f-3f72-43ea-93f1-2b3379a3e12f",
   "metadata": {
    "tags": []
   },
   "outputs": [],
   "source": [
    "wd = 30\n",
    "ped = int(wd*0.1) \n",
    "\n",
    "def hour_mean(est):\n",
    "    global pm25\n",
    "    data = MakeSens.download_data(est, fechaInicio, fechaFin, frecuencia)\n",
    "    \n",
    "    if not data.empty:\n",
    "        pm25 = data[[\"pm25_1\", \"pm25_2\"]].copy(deep=True)\n",
    "        pm25.index = pd.to_datetime(pm25.index) #Convertimos el indice a formato fecha\n",
    "        \n",
    "        pm25.pm25_1 = pm25.pm25_1.where(pm25.pm25_1 < 120, np.nan)\n",
    "        pm25.pm25_2 = pm25.pm25_2.where(pm25.pm25_2 < 120, np.nan)\n",
    "        \n",
    "        pm25['pm25_1_r'] = pm25['pm25_1'].rolling(window=wd, min_periods=ped).mean() \n",
    "        pm25['pm25_2_r'] = pm25['pm25_2'].rolling(window = wd,min_periods=ped).mean()\n",
    "        \n",
    "        pm25['hour'] = pm25.index.hour\n",
    "        \n",
    "        hourly_1 = pm25.pm25_1_r.groupby(pm25.hour).mean()\n",
    "        hourly_2 = pm25.pm25_2_r.groupby(pm25.hour).mean()\n",
    "        \n",
    "        data_final = ((hourly_1+hourly_2)/2.0).to_frame()\n",
    "        \n",
    "    else:\n",
    "        pm25 = data\n",
    "        data_final = data\n",
    "    \n",
    "    return data_final"
   ]
  },
  {
   "cell_type": "code",
   "execution_count": 4,
   "id": "2cf8059e-bcfe-4bbf-b468-377998c09fa7",
   "metadata": {
    "tags": []
   },
   "outputs": [],
   "source": [
    "Week = {\n",
    "  1: \"Lun\",\n",
    "  2: \"Mar\",\n",
    "  3: \"Mier\",\n",
    "  4: \"Jue\",\n",
    "  5: \"Vier\",\n",
    "  6: \"Sab\",\n",
    "  7: \"Dom\"\n",
    "}\n",
    "Ntotal = int(24*30)\n",
    "\n",
    "def day_mean(data,j):\n",
    "    \n",
    "    if not data.empty:\n",
    "        data.dropna()\n",
    "        pm25['day'] = pm25.index.day\n",
    "        dfw = [ g for _,g in  data.groupby(data.day)]\n",
    "        \n",
    "        NN = len(dfw)\n",
    "        pm25_grid = np.zeros(NN)\n",
    "        day = []\n",
    "        for i in range(NN):\n",
    "            Ndata = dfw[i]['pm25_1'].count()\n",
    "            day_p = dfw[i].index.isocalendar().day[0]\n",
    "            \n",
    "            number = dfw[i].day[0]\n",
    "            day.append( \" _ \".join([Week[day_p], str(number)]) )\n",
    "            \n",
    "            if Ndata>0.5*Ntotal:     \n",
    "                pm25_grid[i] = np.mean([dfw[i]['pm25_1'].mean(),dfw[i]['pm25_2'].mean()])\n",
    "            else:\n",
    "                pm25_grid[i] = np.nan\n",
    "                \n",
    "        df2 = pd.DataFrame( [ np.array(pm25_grid) ],\n",
    "                           columns=day)\n",
    "        \n",
    "        df2 = df2.set_index( pd.Index( [ Estaciones[j][1] ] ) )\n",
    "    \n",
    "    else:\n",
    "        df2 = data\n",
    "    \n",
    "    return  df2"
   ]
  },
  {
   "cell_type": "code",
   "execution_count": 5,
   "id": "88d075da-26ac-4672-b9c1-b9a7ca1e01b6",
   "metadata": {
    "tags": []
   },
   "outputs": [],
   "source": [
    "hr_0 = hour_mean(Estaciones[0][0])\n",
    "hr_0.columns = [Estaciones[0][1]]\n",
    "\n",
    "day_0 = day_mean(pm25,0)\n",
    "#day_0 = day_0.set_index( pd.Index( [ Estaciones[0][1] ] ) )\n",
    "#day_0.head()"
   ]
  },
  {
   "cell_type": "code",
   "execution_count": 6,
   "id": "16a28fed-f928-4670-bc8d-37f20070c225",
   "metadata": {
    "tags": []
   },
   "outputs": [
    {
     "name": "stdout",
     "output_type": "stream",
     "text": [
      "Col. Tecnologico\n",
      "Col. Santander\n",
      "Col. Normal\n",
      "Col. Pilar\n",
      "Col. FundeUis\n"
     ]
    }
   ],
   "source": [
    "for i in range(1,Nest):\n",
    "    print(Estaciones[i][1])\n",
    "    hr_1 = hour_mean( Estaciones[i][0] )\n",
    "    day_1 = day_mean(pm25,i)\n",
    "    \n",
    "    if not hr_1.empty:\n",
    "        hr_1.columns = [ Estaciones[i][1] ] \n",
    "        hr_0 = hr_0.join(hr_1)\n",
    "    \n",
    "    if not day_1.empty:\n",
    "        #day_1 = day_1.set_index( pd.Index( [ Estaciones[i][1] ] ) )\n",
    "        #day_0  = day_0.reset_index()\n",
    "        #day_1  = day_1.reset_index()\n",
    "        day_0 = pd.concat([day_0, day_1])\n"
   ]
  },
  {
   "cell_type": "code",
   "execution_count": 37,
   "id": "4b7d9f56-b244-4821-a9ed-ed9e5b5ac1be",
   "metadata": {
    "tags": []
   },
   "outputs": [
    {
     "data": {
      "image/png": "[encoded data removed]",
      "text/plain": [
       "<Figure size 1500x1000 with 2 Axes>"
      ]
     },
     "metadata": {},
     "output_type": "display_data"
    }
   ],
   "source": [
    "df_all_transposed = hr_0.transpose()\n",
    "\n",
    "#cvals  = [6,12,37, 55, 100]\n",
    "cvals  = [0,13, 38, 56, 120]\n",
    "#colors = ['green', \"#c8ff00\", 'yellow', 'orange', \"red\"]\n",
    "colors = ['green',  'yellow', 'orange', \"red\", \"purple\"]\n",
    "\n",
    "norm=plt.Normalize(min(cvals),max(cvals))\n",
    "tuples = list(zip(map(norm,cvals), colors))\n",
    "cmap = LinearSegmentedColormap.from_list('name', tuples)\n",
    "#cmap = ListedColormap(colors)\n",
    "\n",
    "sns.set(font_scale=1.4)\n",
    "\n",
    "plt.figure(figsize=(15,10), facecolor='w', edgecolor='k')\n",
    "sns.heatmap(df_all_transposed,cmap=cmap,square=True, linewidths=2, vmin=0, vmax=110,\n",
    "           cbar_kws={'fraction' : 0.01, 'pad': 0.02,'label': '$\\\\mathrm{PM}_{2.5}\\,  [\\,\\mu g\\, \\, \\\\mathrm{cm}^{-3}\\,]$'})\n",
    "\n",
    "plt.yticks(rotation=0) \n",
    "plt.xlabel('Hora')\n",
    "\n",
    "plt.savefig(\"PlotHora.png\", bbox_inches='tight', transparent=True)\n",
    "\n",
    "plt.show()"
   ]
  },
  {
   "cell_type": "code",
   "execution_count": 30,
   "id": "b2016ea0-06cc-44ef-94ad-a7eaeee31797",
   "metadata": {
    "tags": []
   },
   "outputs": [
    {
     "data": {
      "image/png": "[encoded data removed]",
      "text/plain": [
       "<Figure size 1000x600 with 2 Axes>"
      ]
     },
     "metadata": {},
     "output_type": "display_data"
    }
   ],
   "source": [
    "plt.figure(figsize=(10,6), facecolor='w', edgecolor='k')\n",
    "\n",
    "sns.heatmap(day_0,cmap=cmap,linewidths=2, vmin=0, vmax=110, annot=True,\n",
    "           cbar_kws={'fraction' : 0.03, 'label': '$\\\\mathrm{PM}_{2.5}\\,  [\\,\\mu g\\, \\, \\\\mathrm{cm}^{-3}\\,]$'})\n",
    "\n",
    "\n",
    "sns.set(font_scale=1.2)\n",
    "\n",
    "plt.yticks(rotation=0) \n",
    "#plt.xlabel('Hora')\n",
    "\n",
    "plt.savefig(\"PlotSemana.png\", bbox_inches='tight', transparent=True)\n",
    "\n",
    "plt.show()"
   ]
  },
  {
   "cell_type": "code",
   "execution_count": 32,
   "id": "17a3fd56-d8c9-4ffb-b046-9ac7d4636fc9",
   "metadata": {
    "tags": []
   },
   "outputs": [],
   "source": [
    "# Convertir mapa a imagen\n",
    "#bucaramanga_map.save('mapa.html')\n",
    "import io\n",
    "from PIL import Image\n",
    "\n",
    "# Ruta absoluta para acceder a archivos\n",
    "path = './'\n",
    "\n",
    "#img_data = bucaramanga_map._to_png(5)\n",
    "img = Image.open(path+'PlotSemana.png')\n",
    "wpercent=0.6\n",
    "hsize = int((float(img.size[1])*float(wpercent)))\n",
    "wsize = int((float(img.size[0])*float(wpercent)))\n",
    "img = img.resize((wsize,hsize))\n",
    "\n",
    "plantillaW = Image.open(path+'PlantillaSemanal.png') # Debe añadirse manualmente en la plantilla las estaciones a mostrar\n",
    "plantillaW.paste(img,(5,430)) # Se une la imagen generada con la plantilla\n",
    "plantillaW.save(path+'mapaSemana_full.png')\n",
    "\n",
    "#plantilla.show()"
   ]
  },
  {
   "cell_type": "code",
   "execution_count": 18,
   "id": "b158fcb1-25c8-4bab-914c-788974e29dfb",
   "metadata": {
    "tags": []
   },
   "outputs": [],
   "source": []
  },
  {
   "cell_type": "code",
   "execution_count": 44,
   "id": "c12ee5e2-f618-48d1-a7ff-bd25e4258607",
   "metadata": {
    "tags": []
   },
   "outputs": [],
   "source": [
    "# Convertir mapa a imagen\n",
    "#bucaramanga_map.save('mapa.html')\n",
    "import io\n",
    "from PIL import Image\n",
    "\n",
    "# Ruta absoluta para acceder a archivos\n",
    "path = './'\n",
    "\n",
    "#img_data = bucaramanga_map._to_png(5)\n",
    "img = Image.open(path+'PlotHora.png')\n",
    "wpercent=0.72\n",
    "hsize = int((float(img.size[1])*float(wpercent)))\n",
    "wsize = int((float(img.size[0])*float(wpercent)))\n",
    "img = img.resize((wsize,hsize))\n",
    "\n",
    "plantillaH = Image.open(path+'PlantillaHora.png') # Debe añadirse manualmente en la plantilla las estaciones a mostrar\n",
    "plantillaH.paste(img,(5,100)) # Se une la imagen generada con la plantilla\n",
    "plantillaH.save(path+'mapaHora_full.png')\n",
    "\n",
    "#plantilla.show()"
   ]
  },
  {
   "cell_type": "code",
   "execution_count": null,
   "id": "d2bd87c9-370f-4bba-848e-7f9d69bfa604",
   "metadata": {},
   "outputs": [],
   "source": []
  },
  {
   "cell_type": "code",
   "execution_count": null,
   "id": "72efb62a-d5a9-4f50-9931-15fd0445ae90",
   "metadata": {},
   "outputs": [],
   "source": []
  },
  {
   "cell_type": "code",
   "execution_count": null,
   "id": "31050e0b-b35a-4220-9f75-3877db1b4c45",
   "metadata": {},
   "outputs": [],
   "source": []
  },
  {
   "cell_type": "code",
   "execution_count": null,
   "id": "58de3ec3-862f-4282-87d0-96636ff402a7",
   "metadata": {},
   "outputs": [],
   "source": []
  },
  {
   "cell_type": "code",
   "execution_count": null,
   "id": "8bfb8396-26d2-4318-94cf-69a687f2c8f4",
   "metadata": {},
   "outputs": [],
   "source": []
  }
 ],
 "metadata": {
  "kernelspec": {
   "display_name": "Python 3 (ipykernel)",
   "language": "python",
   "name": "python3"
  },
  "language_info": {
   "codemirror_mode": {
    "name": "ipython",
    "version": 3
   },
   "file_extension": ".py",
   "mimetype": "text/x-python",
   "name": "python",
   "nbconvert_exporter": "python",
   "pygments_lexer": "ipython3",
   "version": "3.10.10"
  }
 },
 "nbformat": 4,
 "nbformat_minor": 5
}
