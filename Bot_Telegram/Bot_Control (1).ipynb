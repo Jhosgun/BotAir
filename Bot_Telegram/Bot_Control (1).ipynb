{
 "cells": [
  {
   "cell_type": "markdown",
   "metadata": {},
   "source": [
    "# Bot de Telegram para consultas de regulación ambiental"
   ]
  },
  {
   "cell_type": "code",
   "execution_count": 1,
   "metadata": {},
   "outputs": [
    {
     "name": "stdout",
     "output_type": "stream",
     "text": [
      "importing Jupyter notebook from config.ipynb\n"
     ]
    },
    {
     "name": "stderr",
     "output_type": "stream",
     "text": [
      "/home/hogar/.local/lib/python3.8/site-packages/pandas/core/computation/expressions.py:20: UserWarning: Pandas requires version '2.7.3' or newer of 'numexpr' (version '2.7.1' currently installed).\n",
      "  from pandas.core.computation.check import NUMEXPR_INSTALLED\n"
     ]
    }
   ],
   "source": [
    "import import_ipynb\n",
    "from config import * #Archivo donde se encuentra el token, no se encuentra pública para evitar conflicto tipo request\n",
    "import telebot\n",
    "import threading\n",
    "from datetime import datetime\n",
    "import locale\n",
    "\n",
    "from MakeSens import MakeSens\n",
    "import pandas as pd\n",
    "import matplotlib.pyplot as plt\n",
    "import numpy as np\n",
    "import os"
   ]
  },
  {
   "cell_type": "code",
   "execution_count": 2,
   "metadata": {},
   "outputs": [],
   "source": [
    "#IDE de cada detector situado en cuatro localizaciones de Bucaramanga\n",
    "est = {'Colegio Tecnológico':'mE1_00004','Colegio Santander':'mE1_00005',\n",
    "       'Colegio la Normal':'mE1_00007','UIS: Grupo Halley':'E2_00023'}"
   ]
  },
  {
   "cell_type": "code",
   "execution_count": 3,
   "metadata": {},
   "outputs": [],
   "source": [
    "def ShowImg(IDE, start,end,freq, place, opt): #IDE de minieva, tiempo iniial, tiempo final, frecuencia, lugar, opción a visualizar\n",
    "    data = MakeSens.download_data(IDE,start,end,freq)\n",
    "    data.index = pd.to_datetime(data.index)\n",
    "    plt.figure(figsize = (15,10))\n",
    "    \n",
    "    if opt == 'Humedad ambiental':\n",
    "        plt.plot(data.index.strftime(\"%H:%M\"), data['humedad'], label=r'Medición Principal')\n",
    "        plt.plot(data.index.strftime(\"%H:%M\"), data['humedad2'], label=r'Medición Auxiliar')\n",
    "\n",
    "        plt.ylabel('Humedad ambiental relativa en {} '.format(place) + r'$[\\%RH]$', fontsize=20)\n",
    "        plt.xlabel(r'Tiempo [H]', fontsize=20)\n",
    "\n",
    "        plt.legend(fontsize=20)\n",
    "        plt.savefig('./{}_{}.png'.format(ans,site))\n",
    "    \n",
    "    elif opt =='Material Particulado':\n",
    "        plt.plot(data.index.strftime(\"%H:%M\"), data['pm1_1'], label=r'0.3 - 1.0 $\\mu m$')\n",
    "        plt.plot(data.index.strftime(\"%H:%M\"), data['pm25_1'], label=r'1.0 - 2.5 $\\mu m$')\n",
    "        plt.plot(data.index.strftime(\"%H:%M\"), data['pm10_1'], label=r'2.5 - 10 $\\mu m$')\n",
    "\n",
    "        plt.ylabel('Cantidad de material partículado en {} '.format(place) + r'$[\\dfrac{\\mu g}{m^3}]$', fontsize=20)\n",
    "        plt.xlabel(r'Tiempo [H]', fontsize=20)\n",
    "\n",
    "        plt.legend(fontsize=20)\n",
    "        plt.savefig('./{}_{}.png'.format(ans,site))\n",
    "        \n",
    "    elif opt=='Temperatura':\n",
    "        plt.plot(data.index.strftime(\"%H:%M\"), data['temperatura'], label=r'Medición Principal')\n",
    "        plt.plot(data.index.strftime(\"%H:%M\"), data['temperatura2'], label=r'Medición Auxiliar')\n",
    "\n",
    "        plt.ylabel('Temperatura en {} '.format(place) + r'$[^{\\circ}C]$', fontsize=20)\n",
    "        plt.xlabel(r'Tiempo [H]', fontsize=20)\n",
    "\n",
    "        plt.legend(fontsize=20)\n",
    "        plt.savefig('./{}_{}.png'.format(ans,site))\n",
    "        "
   ]
  },
  {
   "cell_type": "code",
   "execution_count": 4,
   "metadata": {},
   "outputs": [],
   "source": [
    "bot = telebot.TeleBot(TELEGRAM_TOKEN) #Instanciamos objeto bot"
   ]
  },
  {
   "cell_type": "code",
   "execution_count": 5,
   "metadata": {},
   "outputs": [],
   "source": [
    "ans = \"\" #Variable de parámetro de consulta\n",
    "start_time=\"\" #Variable de tiempo inicial\n",
    "end_time=\"\" #Variable de tiempo final\n",
    "site=\"\" #Sitio donde se sacan los datos (exa-minieva)\n",
    "\n",
    "@bot.message_handler(commands=['start']) #Se ejecuta con el comando /start del usuario\n",
    "\n",
    "def cmd_start(message):\n",
    "    #username = message.from_user.username\n",
    "    if message.from_user.username:\n",
    "        username = message.from_user.username\n",
    "        \n",
    "    elif message.from_user.first_name and message.from_user.last_name:\n",
    "        username = f\"{message.from_user.first_name} {message.from_user.last_name}\"\n",
    "        \n",
    "    else:\n",
    "        username = f\"{message.from_user.first_name}\"\n",
    "        \n",
    "    \n",
    "    text = \"'Hola {}, bienvenido a BotAir, en el cual podrás efectuar las consultas que desees acerca de la calidad del aire en Bucaramanga', *¿Qué parámetros deseas consultar: ?*\".format(username) + \"\\n\"\n",
    "    text+=\"Humedad ambiental\" + \"\\n\"\n",
    "    text+=\"Material Particulado\" +\"\\n\"\n",
    "    text+=\"Temperatura\" +\"\\n\"\n",
    "    bot.reply_to(message, text, parse_mode='MarkdownV2')\n",
    "    bot.register_next_step_handler(message, answers)\n",
    "    \n",
    "def answers(message):\n",
    "    global ans\n",
    "    options= ['Humedad ambiental','Material Particulado','Temperatura']\n",
    "    ans = message.text\n",
    "    for i in range(len(options)):\n",
    "        if ans != options[i]:\n",
    "            continue\n",
    "        elif ans == options[i]:\n",
    "            bot.send_message(message.chat.id, \"Has seleccionado {}, ¿Desde qué fecha deseas iniciar?\\n  Escribela de la forma AAAA-MM-DD hh:mm:ss\".format(options[i]))\n",
    "            break\n",
    "        else:\n",
    "            bot.send_message(message.chat.id, \"Opción no encontrada\".format(options[i]))\n",
    "\n",
    "    bot.register_next_step_handler(message, quest1)\n",
    "\n",
    "def quest1(message):\n",
    "    global start_time\n",
    "    start_time = message.text\n",
    "    bot.send_message(message.chat.id, \"¿Hasta qué fecha deseas consultar?\\n  Escribela de la forma AAAA-MM-DD hh:mm:ss\")\n",
    "    bot.register_next_step_handler(message, quest2)\n",
    "    \n",
    "def quest2(message):\n",
    "    global end_time\n",
    "    end_time = message.text\n",
    "    text = \"*¿En donde deseas realizar la consulta?*\"+\"\\n\"\n",
    "    text+=\"Colegio Tecnológico\" + \"\\n\"\n",
    "    text+=\"Colegio Santander\" +\"\\n\"\n",
    "    text+=\"Colegio la Normal\" +\"\\n\"\n",
    "    text+=\"UIS: Grupo Halley\" +\"\\n\"\n",
    "    bot.send_message(message.chat.id, text, parse_mode='MarkdownV2')\n",
    "    bot.register_next_step_handler(message, where)\n",
    "    \n",
    "def where(message):\n",
    "    global site\n",
    "    site = message.text\n",
    "    try:\n",
    "        ShowImg(est[site],start_time,end_time,'H',site, ans)\n",
    "        img = open('./{}_{}.png'.format(ans,site),'rb')\n",
    "        bot.send_photo(message.chat.id, img,'{} medido en {} entre {} y {}'.format(ans,site,start_time,end_time))\n",
    "        os.remove('./{}_{}.png'.format(ans,site))\n",
    "    except:\n",
    "        bot.send_message(message.chat.id, 'Ocurrió un error, ¿Podrías intentar nuevamente?')"
   ]
  },
  {
   "cell_type": "code",
   "execution_count": 6,
   "metadata": {},
   "outputs": [
    {
     "name": "stdout",
     "output_type": "stream",
     "text": [
      "Iniciando\n",
      "Fin\n"
     ]
    }
   ],
   "source": [
    "def getting():\n",
    "    bot.infinity_polling() #Revisión de bot mientras se está en ejecución\n",
    "\n",
    "if __name__=='__main__':\n",
    "    print('Iniciando')\n",
    "    bot_thread = threading.Thread(name='bot_thread', target=getting) #Adjudicación de hilo para revisión de bot\n",
    "    bot_thread.start()\n",
    "    print('Fin')"
   ]
  },
  {
   "cell_type": "code",
   "execution_count": null,
   "metadata": {},
   "outputs": [],
   "source": []
  },
  {
   "cell_type": "code",
   "execution_count": null,
   "metadata": {},
   "outputs": [],
   "source": []
  }
 ],
 "metadata": {
  "kernelspec": {
   "display_name": "Python 3",
   "language": "python",
   "name": "python3"
  },
  "language_info": {
   "codemirror_mode": {
    "name": "ipython",
    "version": 3
   },
   "file_extension": ".py",
   "mimetype": "text/x-python",
   "name": "python",
   "nbconvert_exporter": "python",
   "pygments_lexer": "ipython3",
   "version": "3.8.5"
  }
 },
 "nbformat": 4,
 "nbformat_minor": 4
}
